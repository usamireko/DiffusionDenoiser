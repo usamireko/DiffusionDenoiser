{
  "cells": [
    {
      "cell_type": "code",
      "execution_count": null,
      "metadata": {
        "cellView": "form",
        "id": "C4PNj24buILo"
      },
      "outputs": [],
      "source": [
        "#@markdown **Make sure that your colab session is connected to a GPU.**\n",
        "!nvidia-smi"
      ]
    },
    {
      "cell_type": "markdown",
      "metadata": {
        "id": "J8Iz5CTN3Q2-"
      },
      "source": [
        "# **Installation**"
      ]
    },
    {
      "cell_type": "code",
      "execution_count": null,
      "metadata": {
        "id": "4-cFgBdcPkBO",
        "cellView": "form"
      },
      "outputs": [],
      "source": [
        "#@title Step 1\n",
        "%%bash\n",
        "mkdir /content/env\n",
        "MINICONDA_INSTALLER_SCRIPT=Miniconda3-py310_24.5.0-0-Linux-x86_64.sh\n",
        "MINICONDA_PREFIX=/content/env\n",
        "wget -q --show-progress https://repo.continuum.io/miniconda/$MINICONDA_INSTALLER_SCRIPT\n",
        "chmod +x $MINICONDA_INSTALLER_SCRIPT\n",
        "./$MINICONDA_INSTALLER_SCRIPT -b -f -p $MINICONDA_PREFIX"
      ]
    },
    {
      "cell_type": "code",
      "execution_count": null,
      "metadata": {
        "id": "W_N2IrTAQOto",
        "cellView": "form"
      },
      "outputs": [],
      "source": [
        "#@title Step 2\n",
        "%%bash\n",
        "source /content/env/bin/activate\n",
        "conda create -n fish_diffusion python=3.10 -y"
      ]
    },
    {
      "cell_type": "code",
      "execution_count": null,
      "metadata": {
        "collapsed": true,
        "id": "Y8rKeEFwQgnc",
        "cellView": "form"
      },
      "outputs": [],
      "source": [
        "#@title Step 3\n",
        "import os\n",
        "\n",
        "if os.path.exists(\"/content/fish-diffusion\"):\n",
        "  print(\"The repo alerady exists, skipping\")\n",
        "else:\n",
        "  !wget https://github.com/usamireko/DiffusionDenoiser/releases/download/download/fish-diffusion.zip\n",
        "  !unzip /content/fish-diffusion.zip -d /content\n",
        "  !wget https://github.com/fishaudio/fish-diffusion/releases/download/v2.2.1/denoiser-cn-hubert-large-v1.ckpt -O /content/fish-diffusion/denoiser-cn-hubert-large-v1.ckpt"
      ]
    },
    {
      "cell_type": "code",
      "execution_count": null,
      "metadata": {
        "collapsed": true,
        "id": "m5atDZBKQsT7",
        "cellView": "form"
      },
      "outputs": [],
      "source": [
        "#@title Step 4 (This one can take a bit of time)\n",
        "%%capture\n",
        "%cd /content/fish-diffusion\n",
        "!source /content/env/bin/activate;\\\n",
        "conda activate fish_diffusion;\\\n",
        "curl -sSL https://raw.githubusercontent.com/pdm-project/pdm/main/install-pdm.py | python3 -;\\\n",
        "/root/.local/bin/pdm sync;"
      ]
    },
    {
      "cell_type": "code",
      "execution_count": null,
      "metadata": {
        "cellView": "form",
        "id": "jCzTClPYrWcx"
      },
      "outputs": [],
      "source": [
        "#@markdown Step 5\n",
        "from IPython.display import display, HTML, clear_output\n",
        "%cd /content/fish-diffusion\n",
        "!source /content/env/bin/activate;\\\n",
        "conda activate fish_diffusion;\\\n",
        "python tools/download_nsf_hifigan.py --agree-license\n",
        "\n",
        "display(HTML(\n",
        "      '''\n",
        "      Installation successfully!!\n",
        "\n",
        "\n",
        "\n",
        "      '''))\n"
      ]
    },
    {
      "cell_type": "markdown",
      "metadata": {
        "id": "Cwv6jkbN03np"
      },
      "source": [
        "# **Explaining parameters**\n",
        "\n",
        "*First time will take time to start, after the 1st run it´ll be faster*\n",
        "\n",
        "*  Input Audio: Path where the audio is located\n",
        "*  Output Audio: Path where the processed audio will be dropped\n",
        "*  N Steps: Amount of steps done by the diffusion denoiser, so the default will only make 30 steps. Less steps can help preserve accent!\n",
        "*  Sampler Interval: Smaller number could lead to higher attention to detail but slower inference times and vice-verse\n",
        "\n",
        "\n",
        "\n",
        "\n",
        "```\n",
        "In case of N Steps and Sampler Interval only touch them if you know what are you doing or if you want to experiment!\n",
        "```\n",
        "\n",
        "\n",
        "\n",
        "\n"
      ]
    },
    {
      "cell_type": "code",
      "execution_count": null,
      "metadata": {
        "id": "gpKZjiyhwSuA",
        "cellView": "form"
      },
      "outputs": [],
      "source": [
        "Input_Audio = \"\" # @param {type:\"string\"}\n",
        "Output_Audio = \"\" # @param {type:\"string\"}\n",
        "N_Steps = 30  # @param {type:\"integer\", min:1, max:999}\n",
        "Skip_Steps = 1000 - N_Steps\n",
        "Sampler_Interval = 10 # @param {type:\"integer\"}\n",
        "# %cd /content/fish-diffusion\n",
        "!source /content/env/bin/activate;\\\n",
        "    conda activate fish_diffusion;\\\n",
        "    python tools/diffusion/inference.py --config configs/denoiser_cn_hubert.py \\\n",
        "    --checkpoint denoiser-cn-hubert-large-v1.ckpt \\\n",
        "    --input {Input_Audio} \\\n",
        "    --output {Output_Audio} \\\n",
        "    --sampler_interval {Sampler_Interval} \\\n",
        "    --skip_steps {Skip_Steps}"
      ]
    },
    {
      "cell_type": "code",
      "execution_count": null,
      "metadata": {
        "cellView": "form",
        "id": "qaFiHY0mk4Ub"
      },
      "outputs": [],
      "source": [
        "#@title Play the result\n",
        "wav_name = \"\" #@param {type:\"string\"}\n",
        "rate=44100\n",
        "from IPython.display import Audio, display\n",
        "\n",
        "display(Audio(wav_name, rate=rate, autoplay=True))"
      ]
    }
  ],
  "metadata": {
    "accelerator": "GPU",
    "colab": {
      "gpuType": "T4",
      "private_outputs": true,
      "provenance": []
    },
    "kernelspec": {
      "display_name": "Python 3",
      "name": "python3"
    },
    "language_info": {
      "name": "python"
    }
  },
  "nbformat": 4,
  "nbformat_minor": 0
}